{
 "cells": [
  {
   "cell_type": "code",
   "execution_count": 8,
   "metadata": {
    "scrolled": true
   },
   "outputs": [],
   "source": [
    "import os\n",
    "from glob import glob\n",
    "import pandas as pd\n",
    "import numpy as np\n",
    "from sklearn import neighbors, preprocessing\n",
    "from sklearn.model_selection import train_test_split\n",
    "\n",
    "DATA_FOLDER_PATH = os.path.abspath(\"../../data\")\n",
    "TRAINING_DATASET = DATA_FOLDER_PATH + \"/\" + \"dataset.csv\"\n",
    "df = pd.read_csv(TRAINING_DATASET, index_col=False)"
   ]
  },
  {
   "cell_type": "code",
   "execution_count": 9,
   "metadata": {},
   "outputs": [],
   "source": [
    "X = np.array(df.drop(['class'], 1))\n",
    "y = np.array(df['class'])\n",
    "\n",
    "X_train, X_test, y_train, y_test = train_test_split(X, y, test_size=0.2)"
   ]
  },
  {
   "cell_type": "code",
   "execution_count": 10,
   "metadata": {},
   "outputs": [
    {
     "data": {
      "text/plain": [
       "KNeighborsClassifier(algorithm='auto', leaf_size=30, metric='minkowski',\n",
       "                     metric_params=None, n_jobs=None, n_neighbors=5, p=2,\n",
       "                     weights='uniform')"
      ]
     },
     "execution_count": 10,
     "metadata": {},
     "output_type": "execute_result"
    }
   ],
   "source": [
    "clf = neighbors.KNeighborsClassifier()\n",
    "clf.fit(X_train, y_train)"
   ]
  },
  {
   "cell_type": "code",
   "execution_count": 11,
   "metadata": {},
   "outputs": [
    {
     "data": {
      "text/plain": [
       "0.9872440416247062"
      ]
     },
     "execution_count": 11,
     "metadata": {},
     "output_type": "execute_result"
    }
   ],
   "source": [
    "accuracy = clf.score(X_test, y_test)\n",
    "accuracy"
   ]
  },
  {
   "cell_type": "code",
   "execution_count": 14,
   "metadata": {},
   "outputs": [],
   "source": [
    "# without_hands = np.array([[0, 0],[0, 0],[0, 0],[0, 0],[0, 0],[0, 0],[0, 0],[0, 0],[0, 0],[0, 0],[0, 0],[0, 0],[0, 0],[0, 0],[0, 0],[0, 0],[0, 0],[0, 0],[0, 0],[0, 0],[0, 0]])\n",
    "# without_hands = without_hands.reshape(1, -1)\n",
    "# koji = np.array([[0.38010, 0.596658], [0.356954, 0.559493], [0.374255, 0.517533], [0.394309, 0.480699], [0.387122, 0.441985], [0.429898, 0.51488], [0.504286, 0.475446], [0.542011, 0.454329], [0.570747, 0.439512], [0.465539, 0.539047], [0.550024, 0.513537], [0.533338, 0.524021], [0.503246, 0.531701], [0.493655, 0.564747], [0.572201, 0.541355], [0.547986, 0.549651], [0.514589, 0.55745], [0.513919, 0.587917], [0.583722, 0.566507], [0.623024, 0.55684], [0.651533, 0.547675]])\n",
    "# koji = koji.reshape(1, -1)\n",
    "# zullo = np.array([[0.699306, 0.417128], [0.719775, 0.371877], [0.309842, 0.68389], [0.258843, 0.69839], [0.231711, 0.671894], [0.299124, 0.573067], [0.251833, 0.50424], [0.228367, 0.449955], [0.212856, 0.638803], [0.325137, 0.498071], [0.312617, 0.521262], [0.329242, 0.558929], [0.33875, 0.602486], [0.358779, 0.482792], [0.339902, 0.504087], [0.357714, 0.53993], [0.369604, 0.390593], [0.448821, 0.356941], [0.41211, 0.350478], [0.391129, 0.55684], [0.345848, 0.566119]])\n",
    "# zullo = zullo.reshape(1, -1)\n",
    "# prediction = clf.predict(zullo)\n",
    "# prediction"
   ]
  }
 ],
 "metadata": {
  "kernelspec": {
   "display_name": "Python 3",
   "language": "python",
   "name": "python3"
  },
  "language_info": {
   "codemirror_mode": {
    "name": "ipython",
    "version": 3
   },
   "file_extension": ".py",
   "mimetype": "text/x-python",
   "name": "python",
   "nbconvert_exporter": "python",
   "pygments_lexer": "ipython3",
   "version": "3.6.9"
  }
 },
 "nbformat": 4,
 "nbformat_minor": 4
}
